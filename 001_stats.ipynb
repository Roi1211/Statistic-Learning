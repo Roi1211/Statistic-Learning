{
 "cells": [
  {
   "cell_type": "markdown",
   "metadata": {},
   "source": [
    "## 練習時間\n",
    "#### 請寫一個函式用來計算 Mean Square Error\n",
    "$ MSE = \\frac{1}{n}\\sum_{i=1}^{n}{(Y_i - \\hat{Y}_i)^2} $\n",
    "\n",
    "### Hint: [如何取平方](https://googoodesign.gitbooks.io/-ezpython/unit-1.html)"
   ]
  },
  {
   "cell_type": "markdown",
   "metadata": {},
   "source": [
    "# [作業目標]\n",
    "- 仿造範例的MAE函數, 自己寫一個MSE函數(參考上面公式)"
   ]
  },
  {
   "cell_type": "markdown",
   "metadata": {},
   "source": [
    "# [作業重點]\n",
    "- 注意程式的縮排\n",
    "- 是否能將數學公式, 轉換為 Python 的函式組合? (In[2], Out[2])"
   ]
  },
  {
   "cell_type": "code",
   "execution_count": 3,
   "metadata": {},
   "outputs": [],
   "source": [
    "# 載入基礎套件與代稱\n",
    "import numpy as np\n",
    "import matplotlib.pyplot as plt"
   ]
  },
  {
   "cell_type": "code",
   "execution_count": 10,
   "metadata": {},
   "outputs": [],
   "source": [
    "def mean_absolute_error(y, yp):\n",
    "    \"\"\"\n",
    "    計算 MAE\n",
    "    Args:\n",
    "        - y: 實際值\n",
    "        - yp: 預測值\n",
    "    Return:\n",
    "        - mae: MAE\n",
    "    \"\"\"\n",
    "    mae = MAE = sum(abs(y - yp)) / len(y)\n",
    "    return mae\n",
    "\n",
    "# 定義 mean_squared_error 這個函數, 計算並傳回 MSE\n",
    "def mean_squared_error(y, yp):\n",
    "    \"\"\"\n",
    "    請完成這個 Function 後往下執行\n",
    "    \"\"\"\n",
    "    if len(y)!=len(yp) or len(y)==0 or len(yp)==0: print(\"Data Error!!!\"); return\n",
    "    return np.sum((np.array(y)-np.array(yp))**2)/len(y)"
   ]
  },
  {
   "cell_type": "code",
   "execution_count": 5,
   "metadata": {},
   "outputs": [
    {
     "data": {
      "image/png": "[encoded data removed]",
      "text/plain": [
       "<Figure size 432x288 with 1 Axes>"
      ]
     },
     "metadata": {
      "needs_background": "light"
     },
     "output_type": "display_data"
    }
   ],
   "source": [
    "# 與範例相同, 不另外解說\n",
    "w = 3\n",
    "b = 0.5\n",
    "x_lin = np.linspace(0, 100, 101)\n",
    "y = (x_lin + np.random.randn(101) * 5) * w + b\n",
    "\n",
    "plt.plot(x_lin, y, 'b.', label = 'data points')\n",
    "plt.title(\"Assume we have data points\")\n",
    "plt.legend(loc = 2)\n",
    "plt.show()"
   ]
  },
  {
   "cell_type": "code",
   "execution_count": 6,
   "metadata": {},
   "outputs": [
    {
     "data": {
      "image/png": "[encoded data removed]",
      "text/plain": [
       "<Figure size 432x288 with 1 Axes>"
      ]
     },
     "metadata": {
      "needs_background": "light"
     },
     "output_type": "display_data"
    }
   ],
   "source": [
    "# 與範例相同, 不另外解說\n",
    "y_hat = x_lin * w + b\n",
    "plt.plot(x_lin, y, 'b.', label = 'data')\n",
    "plt.plot(x_lin, y_hat, 'r-', label = 'prediction')\n",
    "plt.title(\"Assume we have data points (And the prediction)\")\n",
    "plt.legend(loc = 2)\n",
    "plt.show()"
   ]
  },
  {
   "cell_type": "code",
   "execution_count": 11,
   "metadata": {},
   "outputs": [
    {
     "name": "stdout",
     "output_type": "stream",
     "text": [
      "The Mean squared error is 256.860\n",
      "The Mean absolute error is 12.885\n"
     ]
    }
   ],
   "source": [
    "# 執行 Function, 確認有沒有正常執行\n",
    "MSE = mean_squared_error(y, y_hat)\n",
    "MAE = mean_absolute_error(y, y_hat)\n",
    "print(\"The Mean squared error is %.3f\" % (MSE))\n",
    "print(\"The Mean absolute error is %.3f\" % (MAE))"
   ]
  },
  {
   "cell_type": "markdown",
   "metadata": {},
   "source": [
    "# [作業2]\n",
    "\n",
    "請上 Kaggle, 在 Competitions 或 Dataset 中找一組競賽或資料並寫下：\n",
    "\n",
    "### [House Prices: Advanced Regression Techniques](https://www.kaggle.com/c/house-prices-advanced-regression-techniques/notebooks?sortBy=hotness&group=everyone&pageSize=20&language=Python&competitionId=5407&turbolinks%5BrestorationIdentifier%5D=1d136309-218a-498b-ace4-c6016bad19a5)",
    "\n",
    "##1. 你選的這組資料為何重要\n", 
    "　　資料為對於買房價格的各種條件、環境變因等紀錄。藉由各種不同因素，進而推知合理房價。 \n", "\n",
    "　　對於初買或不熟悉地點的房屋購買者/投資者有相當的助益。(雖然資料地點為波士頓，但仍可以做為基本模型以參考) \n", "\n",
    "##2. 資料從何而來 (tips: 譬如提供者是誰、以什麼方式蒐集)\n",
    "　　資料來源於 City Assessor’s Office \n", "\n",
    "　　感謝整理上傳 Dean De Cock - Truman State University \n", "\n",
    "　　其內容包含3970件房地產成交案件，並記錄其113個變因，主要地點為Ames，介於2006至2010年間\n", "\n",
    "\n",
    "##3. 蒐集而來的資料型態為何\n",
    "　　A. 結構化：數值, 表格\n",
    "\n",
    "##4. 這組資料想解決的問題如何評估\n",
    "　　藉由各種不同因素，進而推知合理房價。\n", "\n",
    "　　以預估價格與實際價格間的RMSE為依據，判定模型的準確度 [[範例]](https://www.kaggle.com/shaygu/house-prices-begginer-top-7)\n",
    "\n",
    "# [作業3]\n",
    "\n",
    "想像你經營一個自由載客車隊，你希望能透過數據分析以提升業績，請你思考並描述你如何規劃整體的分析/解決方案：\n",
    "\n",
    "##1. 核心問題為何 (tips：如何定義 「提升業績 & 你的假設」)\n",
    "   - 自由載客車隊的主要客群為何？\n", 
    "      -> 短途搭車者、約定叫車者\n", 
    "   - 主要競爭者為何？\n", 
    "      -> 大眾交通工具、其餘同業\n", 
    "   - 優勢為何？\n", 
    "      -> 不須人擠人、點到點客製化服務\n", 
    "   - 成本為何？\n", 
    "      -> 油耗、空車時機會成本\n", 
    "   - 目前營運狀況為何？\n", 
    "      -> 目前台灣臨時招攬車子客戶比率下降，電話、App等提前叫車比率升高\n", "\n",
    "#### 以上假設結論，以推論問題：\n", "\n",
    "       a. 臨時招攬車子客戶，是否較偏向於特定時間集中於機場、車站、重大集會場所等地\n", "\n",
    "       b. 約定叫車者是否具有時間地點的規律趨勢，若有可規劃車隊分化數組，以AB兩地來回載客以漸少空車之機會成本\n",
    "\n",
    "##2. 資料從何而來 (tips：哪些資料可能會對你想問的問題產生影響 & 資料如何蒐集)\n",
    "　　收集目前車隊所有接客的資料，包含(約定/臨時叫車、時間、接客地點、目的地、人數、行李多寡等)\n",
    "\n",
    "##3. 蒐集而來的資料型態為何\n",
    "　　A. 結構化：數值, 表格, 地點座標化\n",
    "\n",
    "##4. 你要回答的問題，其如何評估 (tips：你的假設如何驗證)\n",
    "   - 可利用K-means分群演算法將地點先分群，若該群涵蓋面積過大，導致成本過高，可考慮放輕比重或放棄該區域市場\n",
    "   - 以K-means分群後的結果為討論地點，利用其餘的資料條件推估下一段時間地點出現乘客機率，以方便告知駕駛下一步動向\n", "\n",
    "       a. 將時間切割成12個時段\n", "\n",
    "       b. MSE(下個時段的每個地點機率-下個時段的每個地點預測機率)\n", "\n",
    "       c. 機率評估後，仍須考量駕駛目前地點、多少駕駛已前往指定地等因素，再做配給\n"
   ]
  }
 ],
 "metadata": {
  "anaconda-cloud": {},
  "kernelspec": {
   "display_name": "Python 3",
   "language": "python",
   "name": "python3"
  },
  "language_info": {
   "codemirror_mode": {
    "name": "ipython",
    "version": 3
   },
   "file_extension": ".py",
   "mimetype": "text/x-python",
   "name": "python",
   "nbconvert_exporter": "python",
   "pygments_lexer": "ipython3",
   "version": "3.7.1"
  }
 },
 "nbformat": 4,
 "nbformat_minor": 1
}

